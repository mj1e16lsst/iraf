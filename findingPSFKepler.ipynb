{
 "cells": [
  {
   "cell_type": "code",
   "execution_count": 24,
   "metadata": {},
   "outputs": [],
   "source": [
    "from pyraf import iraf\n",
    "from iraf import obsutil\n",
    "import subprocess\n",
    "from astropy.table import Table\n",
    "import os\n",
    "import csv\n",
    "#in the furture make packages and import common functions\n",
    "%matplotlib inline\n",
    "import matplotlib\n",
    "import matplotlib.pyplot as plt\n"
   ]
  },
  {
   "cell_type": "code",
   "execution_count": 34,
   "metadata": {
    "collapsed": true
   },
   "outputs": [],
   "source": [
    "imagename = '/data/mj1e16/kepler/cal/kplr2009114174833_ffi-cal.fits[2]'"
   ]
  },
  {
   "cell_type": "code",
   "execution_count": 35,
   "metadata": {
    "collapsed": true
   },
   "outputs": [],
   "source": [
    "def makeConfig(valList,defaultDir='/home/mj1e16/sextractor/sextractor-master/config/',attributeList=['DETECT_THRESH','DETECT_MINAREA','BACK_FILTERSIZE','BACK_SIZE']):\n",
    "    \n",
    "    with open(defaultDir+'/default.sex','r') as f:\n",
    "        data  = f.read()\n",
    "    \n",
    "    catLocFinder = 'CATALOG_NAME'\n",
    "    catname = 'test_PSF.cat'\n",
    "    nameLoc = data.find(catLocFinder) + len(catLocFinder)\n",
    "    endLoc = data[nameLoc:].find('#') + nameLoc\n",
    "    newData = data[:nameLoc] + ' '+catname+' ' + data[endLoc:]\n",
    "    data = newData \n",
    "        \n",
    "    for x in range(len(valList)):\n",
    "        nameLoc = data.find(attributeList[x]) + len(attributeList[x])\n",
    "        endLoc = data[nameLoc:].find('#') + nameLoc\n",
    "        newData = data[:nameLoc] + ' '+str(valList[x])+' ' + data[endLoc:]\n",
    "        data = newData    \n",
    "    \n",
    "    \n",
    "    confName = 'default_PSF.sex'\n",
    "    with open(defaultDir+confName,'w') as f:\n",
    "        f.write(data)\n",
    "    return(confName,catname)"
   ]
  },
  {
   "cell_type": "code",
   "execution_count": 36,
   "metadata": {
    "collapsed": true
   },
   "outputs": [],
   "source": [
    "def findObjects(imagename,confName,catName,defaultDir='/home/mj1e16/sextractor/sextractor-master/config/'):\n",
    "    \n",
    "    os.chdir(defaultDir)\n",
    "    subprocess.call(['sex',imagename,'-c',confName])\n",
    "    assoc = Table.read(catName,format='ascii.sextractor')\n",
    "    \n",
    "    return assoc"
   ]
  },
  {
   "cell_type": "code",
   "execution_count": 57,
   "metadata": {
    "collapsed": true
   },
   "outputs": [],
   "source": [
    "def findPSF(outTable,imageName):\n",
    "    df = outTable.to_pandas()\n",
    "    dflen = len(df)\n",
    "    top10 = int(dflen/10)\n",
    "    newdf = df.nlargest(top10,'FLUX_ISO')\n",
    "    df2 = newdf[50:top10]\n",
    "    \n",
    "    os.chdir('/home/mj1e16/iraf/')\n",
    "    length = len(df2)\n",
    "    nsegs = 25\n",
    "    segment = length/nsegs\n",
    "    PSF = []\n",
    "    for segs in range(3): #nsegs):\n",
    "        low = segs*segment\n",
    "        high = low+segment\n",
    "        regiondf = df2.loc[(df['Y_IMAGE'] >= low) & (df['Y_IMAGE'] <= high)]\n",
    "        xcoords = regiondf['X_IMAGE'].tolist()\n",
    "        ycoords = regiondf['Y_IMAGE'].tolist()\n",
    "        with open('starlist','w') as f:\n",
    "            writer = csv.writer(f,delimiter=' ')\n",
    "            writer.writerows(zip(xcoords,ycoords))\n",
    "        psfmeasure(imageName,coords='markall',logfile='logfile'.format('imagename',segs),imagecur='starlist') \n",
    "        with open('logfile','r') as f:\n",
    "            bigstring = f.read()\n",
    "        finder = 'Average full width at half maximum (FWHM) of '\n",
    "        loc1 = bigstring.find(finder) +len(finder)\n",
    "        loc2 = bigstring[loc1:].find('\\n')\n",
    "        print(loc1,loc2)\n",
    "        PSF.append(bigstring[loc1:loc1+loc2])\n",
    "    return PSF"
   ]
  },
  {
   "cell_type": "code",
   "execution_count": 58,
   "metadata": {},
   "outputs": [
    {
     "name": "stdout",
     "output_type": "stream",
     "text": [
      "** Select stars to measure with 'm' and finish with 'q'.\n",
      "** Additional options are '?', 'g', and :show.\n",
      "NOAO/IRAF V2.16 mj1e16@uos-201660 Mon 20:13:48 10-Jun-2019\n",
      "\n",
      "          Image  Column    Line     Mag    FWHM   Ellip      PA SAT\n",
      "/data/mj1e16/ke  771.76   20.63    0.00   1.674    0.22      55\n",
      "                 262.46   23.87    1.12   1.597    0.41      58\n",
      "                1103.37   27.22    0.12  21.475    0.23     -60\n",
      "\n",
      "  Average full width at half maximum (FWHM) of 9.5366\n",
      "(368, 6)\n",
      "** Select stars to measure with 'm' and finish with 'q'.\n",
      "** Additional options are '?', 'g', and :show.\n",
      "NOAO/IRAF V2.16 mj1e16@uos-201660 Mon 20:13:49 10-Jun-2019\n",
      "\n",
      "          Image  Column    Line     Mag    FWHM   Ellip      PA SAT\n",
      "/data/mj1e16/ke  795.14   39.94    0.21   2.156    0.29      71\n",
      "                 954.77   30.30    0.59   1.471    0.23      54\n",
      "                 636.38   32.52    1.80   1.354    0.35      75\n",
      "                 749.01   43.55    1.92   1.490    0.28      64\n",
      "                1092.33   52.61    1.95   1.307    0.36      76\n",
      "                 268.28   43.68    2.16   1.476    0.28      66\n",
      "                  87.00   45.78    2.34   1.709    0.47     -89\n",
      "                  16.88   52.98    2.37   1.586    0.28     -21\n",
      "                 934.28   34.87    2.44   1.309    0.31      54\n",
      "                 303.43   43.81    2.43   1.438    0.28      59\n",
      "                 318.13   45.08    2.57   1.408    0.19      57\n",
      "                 157.70   28.33    0.00   1.997    0.15      71\n",
      "                1104.99   36.19    4.82   1.297    0.42       5\n",
      "                 662.95   33.38    2.71   1.942    0.56     -14\n",
      "                 555.24   49.42    3.10   1.316    0.25      65\n",
      "                 367.21   29.42    3.21   1.553    0.41       5\n",
      "                 211.42   44.26    3.07   1.684    0.41     -13\n",
      "                1049.31   51.27    3.49   1.265    0.32      55\n",
      "                1001.37   35.09    3.51   1.227    0.36      51\n",
      "                 462.33   50.84    3.27   2.086    0.70     -36\n",
      "                1031.08   33.89    3.57   1.337    0.30      53\n",
      "                 328.93   28.74    3.67   1.676    0.19      68\n",
      "\n",
      "  Average full width at half maximum (FWHM) of 1.7462\n",
      "(368, 6)\n",
      "** Select stars to measure with 'm' and finish with 'q'.\n",
      "** Additional options are '?', 'g', and :show.\n",
      "NOAO/IRAF V2.16 mj1e16@uos-201660 Mon 20:13:52 10-Jun-2019\n",
      "\n",
      "          Image  Column    Line     Mag    FWHM   Ellip      PA SAT\n",
      "/data/mj1e16/ke   93.47   70.21    0.00   1.474    0.23      62\n",
      "                1085.55   55.83    1.22   1.419    0.39      51\n",
      "                 123.42   58.65    1.53   1.519    0.30      70\n",
      "                 669.06   59.31    1.72   1.341    0.21      57\n",
      "                 777.73   69.66    1.73   1.618    0.13      70\n",
      "                 379.16   59.52    1.81   1.747    0.09     -33\n",
      "                 208.14   75.53    1.97   1.741    0.60     -53\n",
      "                 215.07   65.66    2.08   1.637    0.24      70\n",
      "                 964.21   77.81    2.11   1.311    0.38      58\n",
      "                 143.45   68.58    2.16   1.544    0.22      72\n",
      "                 664.01   73.15    2.29   1.311    0.39      50\n",
      "                 960.15   62.66    2.67   1.502    0.38     -61\n",
      "                 437.44   57.21    2.64   1.323    0.36      54\n",
      "                 801.21   65.57    2.74   1.436    0.24      77\n",
      "                 628.00   54.95    2.72   1.431    0.25      71\n",
      "                1085.55   55.83    1.22   1.419    0.39      51\n",
      "                 705.81   68.60    3.03   2.092    0.20      51\n",
      "                 248.51   66.85    2.83   1.510    0.02      55\n",
      "                 158.23   61.97    2.92   1.531    0.40     -16\n",
      "                 447.38   62.01    2.88   1.395    0.24      44\n",
      "                 987.47   70.78    2.88   1.329    0.36      50\n",
      "                 430.26   65.55    2.92   2.044    0.68      60\n",
      "\n",
      "  Average full width at half maximum (FWHM) of 1.5025\n",
      "(368, 6)\n"
     ]
    },
    {
     "data": {
      "text/plain": [
       "['3.6589', '3.6589', '3.6589']"
      ]
     },
     "execution_count": 58,
     "metadata": {},
     "output_type": "execute_result"
    }
   ],
   "source": [
    "findPSF(outTable,imagename)"
   ]
  },
  {
   "cell_type": "code",
   "execution_count": 37,
   "metadata": {},
   "outputs": [],
   "source": [
    "names = makeConfig([5,10,3,64])\n",
    "outTable = findObjects(imagename,names[0],names[1])"
   ]
  },
  {
   "cell_type": "code",
   "execution_count": 38,
   "metadata": {},
   "outputs": [],
   "source": [
    "df = outTable.to_pandas()\n",
    "newdf = df.nlargest(1050,'FLUX_ISO')"
   ]
  },
  {
   "cell_type": "code",
   "execution_count": 39,
   "metadata": {
    "collapsed": true
   },
   "outputs": [],
   "source": [
    "df2 = newdf[50:1050]"
   ]
  },
  {
   "cell_type": "code",
   "execution_count": 45,
   "metadata": {},
   "outputs": [
    {
     "name": "stdout",
     "output_type": "stream",
     "text": [
      "** Select stars to measure with 'm' and finish with 'q'.\n",
      "** Additional options are '?', 'g', and :show.\n",
      "NOAO/IRAF V2.16 mj1e16@uos-201660 Mon 20:01:47 10-Jun-2019\n",
      "\n",
      "          Image  Column    Line     Mag    FWHM   Ellip      PA SAT\n",
      "kplr20091150026  954.77   30.30    0.59   1.471    0.23      54\n",
      "                 636.38   32.52    1.80   1.354    0.35      75\n",
      "                 771.76   20.63    2.15   1.672    0.20      54\n",
      "                 934.28   34.87    2.44   1.308    0.31      54\n",
      "                 157.70   28.33    0.00   1.999    0.15      71\n",
      "                1104.99   36.19    4.83   1.293    0.44       4\n",
      "                 662.95   33.38    2.71   1.942    0.56     -14\n",
      "                 367.21   29.42    3.22   1.552    0.41       5\n",
      "                 262.46   23.87    3.27   1.594    0.41      58\n",
      "                1001.37   35.09    3.51   1.226    0.35      51\n",
      "                1031.08   33.89    3.57   1.334    0.30      54\n",
      "                1116.13   14.11    6.72  22.015    0.94     -52\n",
      "                 328.93   28.74    3.68   1.675    0.20      64\n",
      "                 834.00   27.79    3.77   3.100    0.55     -40\n",
      "                1071.90   33.14    4.69   3.330    0.58      72\n",
      "                  79.88   33.75    3.81   1.786    0.25      42\n",
      "                1043.61   32.21    3.84   1.256    0.32      50\n",
      "                 589.80   22.31    3.97   1.302    0.10     -24\n",
      "                 756.25   21.66    4.01   1.309    0.11     -13\n",
      "                 157.70   28.33    0.00   1.999    0.15      72\n",
      "                 625.38   34.36    4.07   1.348    0.11      46\n",
      "                 848.04   22.41    3.88   1.543    0.99     -79\n",
      "                1084.57   38.51    4.64   1.910    0.69     -87\n",
      "                 196.13   22.16    4.22   1.422    0.64      -3\n",
      "\n",
      "  Average full width at half maximum (FWHM) of 1.8080\n",
      "** Select stars to measure with 'm' and finish with 'q'.\n",
      "** Additional options are '?', 'g', and :show.\n",
      "NOAO/IRAF V2.16 mj1e16@uos-201660 Mon 20:01:49 10-Jun-2019\n",
      "\n",
      "          Image  Column    Line     Mag    FWHM   Ellip      PA SAT\n",
      "kplr20091150026  795.14   39.94    0.00   2.156    0.29      71\n",
      "                  93.47   70.21    0.53   1.474    0.23      62\n",
      "                 749.01   43.55    1.71   1.489    0.28      64\n",
      "                1085.55   55.83    1.74   1.413    0.39      51\n",
      "                1092.33   52.61    1.75   1.308    0.36      76\n",
      "                 268.28   43.68    1.95   1.476    0.28      66\n",
      "                 123.42   58.65    2.07   1.519    0.30      70\n",
      "                  87.00   45.78    2.14   1.708    0.47     -89\n",
      "                  16.88   52.98    2.16   1.585    0.28     -21\n",
      "                 303.43   43.80    2.23   1.431    0.28      59\n",
      "                 669.06   59.31    2.26   1.340    0.21      56\n",
      "                 777.73   69.66    2.27   1.612    0.13      70\n",
      "                 379.16   59.52    2.35   1.746    0.09     -34\n",
      "                 318.13   45.08    2.37   1.408    0.19      57\n",
      "                 208.14   75.53    2.51   1.740    0.60     -53\n",
      "                 215.07   65.66    2.62   1.637    0.24      69\n",
      "                 964.21   77.81    2.65   1.310    0.37      59\n",
      "                 143.45   68.58    2.69   1.537    0.22      72\n",
      "                 664.01   73.15    2.82   1.312    0.39      50\n",
      "                 555.24   49.42    2.89   1.315    0.26      65\n",
      "                 211.42   44.26    2.86   1.683    0.41     -13\n",
      "                 960.15   62.66    3.20   1.498    0.39     -61\n",
      "                 437.44   57.21    3.17   1.317    0.36      55\n",
      "                 801.21   65.57    3.27   1.434    0.21      74\n",
      "                 628.00   54.95    3.26   1.428    0.25      69\n",
      "                1085.55   55.83    1.74   1.413    0.39      51\n",
      "                1049.31   51.27    3.28   1.265    0.31      55\n",
      "                 705.81   68.60    3.56   2.088    0.21      51\n",
      "                 248.51   66.85    3.37   1.510    0.02      55\n",
      "                 462.33   50.83    3.07   2.086    0.69     -36\n",
      "                 158.23   61.97    3.46   1.530    0.41     -16\n",
      "                 447.38   62.01    3.41   1.395    0.24      45\n",
      "                 987.47   70.78    3.42   1.322    0.36      51\n",
      "                 430.26   65.55    3.45   2.040    0.68      61\n",
      "                 261.13   65.87    3.45   1.504    0.30      70\n",
      "                 193.66   42.68    3.45   1.696    0.21      59\n",
      "                 525.05   73.87    3.47   1.516    0.02     -86\n",
      "                 159.61   54.95    3.53   1.563    0.32      68\n",
      "                 150.25   82.36    2.66  11.209    0.65     -58\n",
      "                 725.64   73.59    3.69   1.669    0.36      70\n",
      "                 736.24   74.02    3.85   1.455    0.50      52\n",
      "                1092.33   52.61    1.75   1.301    0.36      75\n",
      "                 642.35   69.58    3.84   1.407    0.44      56\n",
      "                  93.47   70.21    0.53   1.474    0.23      62\n",
      "                 184.45   76.59    3.91   1.679    0.30     -28\n",
      "                 693.95   69.65    3.94   1.714    0.70      34\n",
      "                 549.92   40.41    3.90   1.478    0.22      37\n",
      "                1105.27   67.98    4.75   1.245    0.36      58\n",
      "                 717.17   49.26    4.02   1.261    0.33      80\n",
      "\n",
      "  Average full width at half maximum (FWHM) of 1.7414\n"
     ]
    }
   ],
   "source": [
    "dfbottomtotop = []\n",
    "os.chdir('/home/mj1e16/iraf/')\n",
    "length = len(df2)\n",
    "nsegs = 25\n",
    "segment = length/nsegs\n",
    "\n",
    "for segs in range(nsegs):\n",
    "    low = segs*segment\n",
    "    high = low+segment\n",
    "    regiondf = df2.loc[(df['Y_IMAGE'] >= low) & (df['Y_IMAGE'] <= high)]\n",
    "    xcoords = regiondf['X_IMAGE'].tolist()\n",
    "    ycoords = regiondf['Y_IMAGE'].tolist()\n",
    "    with open('starlist','w') as f:\n",
    "        writer = csv.writer(f,delimiter=' ')\n",
    "        writer.writerows(zip(xcoords,ycoords))\n",
    "    psfmeasure('kplr2009115002613_ffi-cal.fits[2]',coords='markall',logfile='logfile_{}_{}'.format('imagename',segs),imagecur='starlist') \n"
   ]
  },
  {
   "cell_type": "code",
   "execution_count": 9,
   "metadata": {},
   "outputs": [],
   "source": [
    "from iraf import psfmeasure"
   ]
  },
  {
   "cell_type": "code",
   "execution_count": 10,
   "metadata": {
    "collapsed": true
   },
   "outputs": [],
   "source": [
    "os.chdir('/home/mj1e16/iraf/')"
   ]
  },
  {
   "cell_type": "code",
   "execution_count": 20,
   "metadata": {},
   "outputs": [
    {
     "name": "stdout",
     "output_type": "stream",
     "text": [
      "** Select stars to measure with 'm' and finish with 'q'.\n",
      "** Additional options are '?', 'g', and :show.\n",
      "NOAO/IRAF V2.16 mj1e16@uos-201660 Mon 19:56:52 10-Jun-2019\n",
      "\n",
      "          Image  Column    Line     Mag    FWHM   Ellip      PA SAT\n",
      "kplr20091150026  684.11  500.74    3.64   1.407    0.17     -69\n",
      "                 674.83  732.79    0.00   3.940    0.84     -88\n",
      "                 153.29  644.73    0.24   3.406    0.70     -89\n",
      "\n",
      "  Average full width at half maximum (FWHM) of 3.6589\n"
     ]
    }
   ],
   "source": [
    "psfmeasure('kplr2009115002613_ffi-cal.fits[44]',coords='markall',logfile='logfile',imagecur='starlist') #)"
   ]
  },
  {
   "cell_type": "code",
   "execution_count": null,
   "metadata": {
    "collapsed": true
   },
   "outputs": [],
   "source": []
  }
 ],
 "metadata": {
  "kernelspec": {
   "display_name": "Python 2",
   "language": "python",
   "name": "python2"
  },
  "language_info": {
   "codemirror_mode": {
    "name": "ipython",
    "version": 2
   },
   "file_extension": ".py",
   "mimetype": "text/x-python",
   "name": "python",
   "nbconvert_exporter": "python",
   "pygments_lexer": "ipython2",
   "version": "2.7.13"
  }
 },
 "nbformat": 4,
 "nbformat_minor": 2
}
