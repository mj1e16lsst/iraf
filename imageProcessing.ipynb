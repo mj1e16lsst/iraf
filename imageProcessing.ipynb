{
 "cells": [
  {
   "cell_type": "code",
   "execution_count": 5,
   "metadata": {},
   "outputs": [],
   "source": [
    "from pyraf import iraf\n",
    "from iraf import artdata\n",
    "import subprocess\n",
    "import os\n",
    "from astropy.io import fits\n",
    "import matplotlib.pyplot as plt\n",
    "from astropy.visualization.mpl_normalize import ImageNormalize\n",
    "from astropy.visualization import SqrtStretch\n",
    "from matplotlib.colors import LogNorm\n",
    "import astroprov"
   ]
  },
  {
   "cell_type": "code",
   "execution_count": null,
   "metadata": {
    "collapsed": true
   },
   "outputs": [],
   "source": [
    "provDir = '/home/mj1e16/keplerPhotometry/provDump/'"
   ]
  },
  {
   "cell_type": "code",
   "execution_count": 6,
   "metadata": {
    "collapsed": true
   },
   "outputs": [],
   "source": [
    "def hotpants(inIm,templIm,imageDirectory='/data/mj1e16/kepler/cal/'):\n",
    "    outim = '/home/mj1e16/Simages/'+'diff_{}_{}.fits'.format(inIm,templIm)\n",
    "    astroprov.provcall([inIm,templIm],[outim],\"differenceImage_Python2Hotpants_SQ_tmpl.provn\",\"differenceImage\",provDir)\n",
    "    subprocess.call(['./hotpants','-inim',imageDirectory+inim,'-tmplim',imageDirectory+tmplim,'-outim',imageDirectory+outim,'-v','0'])\n",
    "    return(outim)"
   ]
  },
  {
   "cell_type": "code",
   "execution_count": 7,
   "metadata": {
    "collapsed": true
   },
   "outputs": [],
   "source": [
    "def MKObjects(imageName,outName,objects='starfield.dat',gain=110,rdnoise=127,ar=1,pa=0):\n",
    "    astroprov.provcall([imageName,objects],[outName],\"addStars_Python2IRAF_SQ_tmpl.provn\",\"addStars\",provDir)\n",
    "\n",
    "    os.chdir('/home/mj1e16/iraf/')\n",
    "    artdata.mkobjects(imageName,output=outName,objects='starfield.dat',gain=gain,rdnoise=rdnoise,ar=ar,pa=pa)\n",
    "    hdu = fits.open(outName)\n",
    "    im1 = hdu[0].data\n",
    "    fig, ax = plt.subplots(figsize=(10, 10))\n",
    "    ax.imshow(im1,cmap='Greys',norm=LogNorm(),vmin=1,vmax=500)\n",
    "    plt.show()"
   ]
  },
  {
   "cell_type": "code",
   "execution_count": null,
   "metadata": {
    "collapsed": true
   },
   "outputs": [],
   "source": [
    "imageDir  = '/data/mj1e16/kepler/cal/'\n",
    "images = [imageDir+'kplr2012088132324_ffi-cal.fits[5]',imageDir+'kplr2012088132324_ffi-cal.fits',imageDir+'kplr2012088132324_ffi-cal.fits']\n",
    "ccd = [5,21,44]\n",
    "medianDir = '/data/mj1e16/kepler/medians/'\n",
    "tmplImages = [[medianDir+'meidian_5.fits',medianDir+'meidian_5_5.fits'.format(5,5)],[medianDir+'meidian_21.fits',medianDir+'meidian_{}_{}.fits'.format(21,21)],[medianDir+'meidian_44.fits',medianDir+'meidian_{}_{}.fits'.format(44,44)]]\n"
   ]
  },
  {
   "cell_type": "code",
   "execution_count": null,
   "metadata": {
    "collapsed": true
   },
   "outputs": [],
   "source": [
    "imageDir = '/data/mj1e16/kepler/cal/'\n",
    "medianDir = '/data/mj1e16/kepler/medians/'\n",
    "ccd = [5,21,44]\n",
    "\n",
    "for camera in cdd:\n",
    "    images = [imageDir+'kplr2012088132324_ffi-cal.fits[{}]'.format(camera)]\n",
    "    tmplImages = [medianDir+'meidian_{}.fits'.format(camera),medianDir+'meidian_{}_{}.fits'.format(camera,camera),imageDir+'someImage[{}]'.format(camera)]\n",
    "    for temp in range(len(tmplImages)):\n",
    "        outIm = hotpants(images[0],tmplImages[temp])\n",
    "        MKObjects(outIm,'/home/mj1e16/Simages/SIM_'+outIM,ar='6/10',pa='135')"
   ]
  }
 ],
 "metadata": {
  "kernelspec": {
   "display_name": "Python 2",
   "language": "python",
   "name": "python2"
  },
  "language_info": {
   "codemirror_mode": {
    "name": "ipython",
    "version": 2
   },
   "file_extension": ".py",
   "mimetype": "text/x-python",
   "name": "python",
   "nbconvert_exporter": "python",
   "pygments_lexer": "ipython2",
   "version": "2.7.13"
  }
 },
 "nbformat": 4,
 "nbformat_minor": 2
}
